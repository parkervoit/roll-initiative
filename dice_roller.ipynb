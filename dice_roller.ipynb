{
 "cells": [
  {
   "cell_type": "markdown",
   "metadata": {},
   "source": [
    "# Dungeons and Dragons Companion Toolkit"
   ]
  },
  {
   "cell_type": "markdown",
   "metadata": {
    "tags": []
   },
   "source": [
    "This notebook is meant to be a lightweight toolkit for rolling dice for ability checks and damage in the tabletop game Dungeons and Dragons"
   ]
  },
  {
   "cell_type": "markdown",
   "metadata": {},
   "source": [
    "## Imports"
   ]
  },
  {
   "cell_type": "code",
   "execution_count": null,
   "metadata": {},
   "outputs": [],
   "source": [
    "import random\n",
    "import json\n",
    "import re"
   ]
  },
  {
   "cell_type": "markdown",
   "metadata": {},
   "source": [
    "## Json loads and function definitions"
   ]
  },
  {
   "cell_type": "code",
   "execution_count": null,
   "metadata": {},
   "outputs": [],
   "source": [
    "def import_char_json(filepath):\n",
    "    with open(filepath) as file:\n",
    "        char_sheet = json.load(file)\n",
    "    return char_sheet"
   ]
  },
  {
   "cell_type": "code",
   "execution_count": null,
   "metadata": {
    "tags": []
   },
   "outputs": [],
   "source": [
    "# load the json formatted character sheet. Example is below\n",
    "with open('roll-initiative/char_sheet.json') as file:\n",
    "    raw_sheet = json.load(file)"
   ]
  },
  {
   "cell_type": "code",
   "execution_count": null,
   "metadata": {},
   "outputs": [],
   "source": [
    "char_sheet = {'character': {'name': 'Ur-Shanai',\n",
    "  'race': 'High Elf',\n",
    "  'class': 'Cleric',\n",
    "  'subclass': 'Grave Domain',\n",
    "  'level': 5},\n",
    " 'abilities': {'strength': {'num': 13, 'mod': 1},\n",
    "  'dexterity': {'num': 18, 'mod': 4},\n",
    "  'constitution': {'num': 18, 'mod': 4},\n",
    "  'intelligence': {'num': 14, 'mod': 2},\n",
    "  'wisdom': {'num': 17, 'mod': 3},\n",
    "  'charisma': {'num': 16, 'mod': 3},\n",
    "  'nomod': {'num': 12, 'mod': 0}},\n",
    " 'saving_throws': {'strength': 1,\n",
    "  'dexterity': 4,\n",
    "  'constitution': 4,\n",
    "  'intelligence': 2,\n",
    "  'wisdom': 6,\n",
    "  'charisma': 6},\n",
    " 'passive_senses': {'perception': 16,\n",
    "  'investigation': 12,\n",
    "  'insight': 16,\n",
    "  'misc': ['darkvision 60ft']}},\n",
    "\n",
    "skill_sheet =  {'acrobatics': 'dexterity',\n",
    "                'animal_handling': 'wisdom',\n",
    "                'arcana': 'intelligence',\n",
    "                'athletics': 'strength',\n",
    "                'deception': 'charisma',\n",
    "                'history': 'intelligence',\n",
    "                'insight': 'wisdom',\n",
    "                'intimidation': 'charisma',\n",
    "                'investigation': 'intelligence',\n",
    "                'medicine': 'wisdom',\n",
    "                'nature': 'intelligence',\n",
    "                'perception': 'wisdom',\n",
    "                'performance': 'charisma',\n",
    "                'persuasion': 'charisma',\n",
    "                'religion': 'intelligence',\n",
    "                'sleightofhand': 'dexterity',\n",
    "                'stealth': 'dexterity',\n",
    "                'survival': 'wisdom',\n",
    "                'nomod' : 'nomod'}"
   ]
  },
  {
   "cell_type": "code",
   "execution_count": 109,
   "metadata": {
    "tags": []
   },
   "outputs": [],
   "source": [
    "# base dice rolling function\n",
    "def dice_roll(x = 20, addl_dice = 0, ability = '', numdice = 1, show_output = False, roll_type = 'ability', crit = False):\n",
    "    ''' dice_roll(x, modifier, numdice)\n",
    "        \n",
    "        x = int n sides of the dice (default d20)\n",
    "        addl_dice = int n sides of added die, granted from a spell like Guidance (default 0)\n",
    "        modifier = int value of modifier for roll (default 0)\n",
    "        numdice = int n number of dice (default 1)\n",
    "        crit = whether or not the hit roll was a critical hit (default False)\n",
    "        \n",
    "\n",
    "        This function returns the final total for a roll in D&D\n",
    "        Prints each dice roll, base sum, modifier, and the total roll value\n",
    "        This function handles critical hits by duplicating the damage die, then adding the ability modifier.\n",
    "        \n",
    "        \n",
    "        Returns dice, additional_dice, modifier\n",
    "    '''\n",
    "    count = 1\n",
    "    dice = 0\n",
    "    add_dice = 0\n",
    "    output = ''\n",
    "    try:\n",
    "        modifier = char_sheet['abilities'][ability]['mod']\n",
    "    except Exception:\n",
    "        char_lookup = skill_sheet[ability]\n",
    "        modifier = char_sheet['abilities'][char_lookup]['mod']\n",
    "    for i in range(numdice):\n",
    "        count += 1\n",
    "        roll = random.randint(1,x)\n",
    "        output += f'<|>  d{x} #{count - 1} Dice Roll :  {roll}  <|>\\n'\n",
    "        dice += roll\n",
    "    if crit == True:\n",
    "        dice *= 2\n",
    "    if addl_dice != 0:\n",
    "            add_dice += random.randint(1,addl_dice)\n",
    "            output += f'<|>  d{addl_dice} Bonus Roll   :  {add_dice}  <|>\\n'\n",
    "    output += f'''\\n\\n Dice Total          :  {dice + add_dice}\\n Modifier            :  {modifier:{\"+\" if modifier else \"\"}}\\n-----------------------------\\n Total Roll          :  {dice + modifier + add_dice}'''\n",
    "    if show_output:\n",
    "        print(output)\n",
    "    return dice, add_dice, modifier"
   ]
  },
  {
   "cell_type": "markdown",
   "metadata": {},
   "source": [
    "## Example dice rolls"
   ]
  },
  {
   "cell_type": "markdown",
   "metadata": {
    "tags": []
   },
   "source": [
    "####  6d10 survival check\n",
    "purposely made it an absurd roll to test"
   ]
  },
  {
   "cell_type": "code",
   "execution_count": 106,
   "metadata": {
    "tags": []
   },
   "outputs": [
    {
     "name": "stdout",
     "output_type": "stream",
     "text": [
      "<|>  d10 #1 Dice Roll :  7  <|>\n",
      "<|>  d10 #2 Dice Roll :  10  <|>\n",
      "<|>  d10 #3 Dice Roll :  4  <|>\n",
      "<|>  d10 #4 Dice Roll :  1  <|>\n",
      "<|>  d10 #5 Dice Roll :  10  <|>\n",
      "<|>  d10 #6 Dice Roll :  4  <|>\n",
      "\n",
      "\n",
      " Dice Total          :  36\n",
      " Modifier            :  +3\n",
      "-----------------------------\n",
      " Total Roll          :  39\n",
      "<|>  d20 #1 Dice Roll :  4  <|>\n",
      "\n",
      "\n",
      " Dice Total          :  4\n",
      " Modifier            :  +4\n",
      "-----------------------------\n",
      " Total Roll          :  8\n"
     ]
    }
   ],
   "source": [
    "dice_type = 10\n",
    "addl_dice = 0\n",
    "modifier = 'survival'\n",
    "number_of_dice = 6\n",
    "crit = False\n",
    "dice, add_dice, modifier = dice_roll(dice_type, \n",
    "                                             addl_dice, \n",
    "                                             modifier, \n",
    "                                             number_of_dice, \n",
    "                                             show_output= True) \n",
    "print(output)"
   ]
  },
  {
   "cell_type": "code",
   "execution_count": null,
   "metadata": {},
   "outputs": [],
   "source": [
    "def dice_to_roll(str):\n",
    "    ''' Parses a roll string with modifier and extracts the type of dice, how many, and what modifier'''\n",
    "    split = tuple(str.split('d', maxsplit = 1))\n",
    "    number_of_dice = split[0]\n",
    "    dice_type = split[1].split()[0]\n",
    "    modifier = split[1].split()[1]\n",
    "    roll_type = split[1].split()[-1]\n",
    "    return number_of_dice, dice_type, modifier, roll_type"
   ]
  },
  {
   "cell_type": "code",
   "execution_count": null,
   "metadata": {},
   "outputs": [],
   "source": [
    "def crit_handler(roll_type, roll, dice_type):\n",
    "    if roll_type == 'hit' and roll == dice_type:\n",
    "        crit = True\n",
    "    else:\n",
    "        crit = False\n",
    "    return crit\n",
    "    \n",
    "    "
   ]
  },
  {
   "cell_type": "code",
   "execution_count": null,
   "metadata": {},
   "outputs": [],
   "source": [
    "def dice_roll2(x = 20, addl_dice = 0, ability = '', numdice = 1, show_output = False):\n",
    "    ''' dice_roll(x, modifier, numdice)\n",
    "        \n",
    "        x = int n sides of the dice (default d20)\n",
    "        addl_dice = int n sides of added die, granted from a spell like Guidance (default 0)\n",
    "        modifier = int value of modifier for roll (default 0)\n",
    "        numdice = int n number of dice (default 1)\n",
    "        crit = whether or not the hit roll was a critical hit (default False)\n",
    "        \n",
    "\n",
    "        This function returns the final total for a roll in D&D\n",
    "        Prints each dice roll, base sum, modifier, and the total roll value\n",
    "        This function handles critical hits by duplicating the damage die, then adding the ability modifier.\n",
    "        \n",
    "        \n",
    "        Returns dice, additional_dice, modifier\n",
    "    '''\n",
    "    count = 1\n",
    "    dice = 0\n",
    "    add_dice = 0\n",
    "    output = ''\n",
    "    try:\n",
    "        modifier = char_sheet['abilities'][ability]['mod']\n",
    "    except Exception:\n",
    "        char_lookup = skill_sheet[ability]\n",
    "        modifier = char_sheet['abilities'][char_lookup]['mod']\n",
    "    for i in range(numdice):\n",
    "        count += 1\n",
    "        roll = random.randint(1,x)\n",
    "        output += f'<|>  d{x} #{count - 1} Dice Roll :  {roll}  <|>\\n'\n",
    "        dice += roll\n",
    "    if crit == True:\n",
    "        dice *= 2\n",
    "    if addl_dice != 0:\n",
    "            add_dice += random.randint(1,addl_dice)\n",
    "            output += f'<|>  d{addl_dice} Bonus Roll   :  {add_dice}  <|>\\n'\n",
    "    output += f'''\\n\\n Dice Total          :  {dice + add_dice}\\n Modifier            :  {modifier:{\"+\" if modifier else \"\"}}\\n-----------------------------\\n Total Roll          :  {dice + modifier + add_dice}'''\n",
    "    if show_output:\n",
    "        print(output)\n",
    "    return dice, add_dice, modifier"
   ]
  },
  {
   "cell_type": "code",
   "execution_count": 115,
   "metadata": {},
   "outputs": [
    {
     "name": "stdout",
     "output_type": "stream",
     "text": [
      "<|>  d20 #1 Dice Roll :  8  <|>\n",
      "<|>  d20 #2 Dice Roll :  10  <|>\n",
      "\n",
      "\n",
      " Dice Total          :  18\n",
      " Modifier            :  +4\n",
      "-----------------------------\n",
      " Total Roll          :  22\n"
     ]
    },
    {
     "data": {
      "text/plain": [
       "(18, 0, 4)"
      ]
     },
     "execution_count": 115,
     "metadata": {},
     "output_type": "execute_result"
    }
   ],
   "source": [
    "# Functional version since I use this regularly in my DnD groupß\n",
    "dice_roll(x = 20,\n",
    "          addl_dice = 0,\n",
    "          ability = 'acrobatics',\n",
    "          numdice = 2,\n",
    "          show_output = True,\n",
    "          crit = False)"
   ]
  },
  {
   "cell_type": "markdown",
   "metadata": {},
   "source": [
    "To Do:\n",
    "\n",
    "write the main function that uses all the functions. The main dice roller may need to be refactored or split up into more simple funcs to handle whether or not a roll is a critical hit. Probably just rewrite all that junk since I'm restructuring the interface. \n",
    "\n",
    "I'd like to package this in a UI, I'll probably create a webapp and run it locally so that users can upload thier charactersheets as jsons and then also interface and conduct dice rolls in the app. \n",
    "\n",
    "The recent updates are just compartmentalizing different actions in the functions so that I may later make a \"dice roll\" class object. Doing that in a clever manner would allow this pet project to be used in other dice games beyond DnD. \n",
    "\n",
    "End goal is to have a dice rolling library that I import and can roll dice through the command line. I need to build a function to read CLI args and output the roll. Eventually, the UI needs to be developed to handle different n-sided die, any number of said die, any modifying die, and also handle crit attack rolls correctly. "
   ]
  }
 ],
 "metadata": {
  "kernelspec": {
   "display_name": "Python 3.8.8 ('base')",
   "language": "python",
   "name": "python3"
  },
  "language_info": {
   "codemirror_mode": {
    "name": "ipython",
    "version": 3
   },
   "file_extension": ".py",
   "mimetype": "text/x-python",
   "name": "python",
   "nbconvert_exporter": "python",
   "pygments_lexer": "ipython3",
   "version": "3.8.8"
  },
  "vscode": {
   "interpreter": {
    "hash": "40d3a090f54c6569ab1632332b64b2c03c39dcf918b08424e98f38b5ae0af88f"
   }
  }
 },
 "nbformat": 4,
 "nbformat_minor": 4
}
