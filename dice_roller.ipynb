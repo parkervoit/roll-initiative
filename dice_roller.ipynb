{
 "cells": [
  {
   "cell_type": "code",
   "execution_count": 1,
   "metadata": {},
   "outputs": [],
   "source": [
    "import random "
   ]
  },
  {
   "cell_type": "code",
   "execution_count": 95,
   "metadata": {},
   "outputs": [],
   "source": [
    "def dice_roll(x, modifier, numdice, damage = False):\n",
    "    ''' dice_roll(x, modifier, numdice)\n",
    "\n",
    "        x = int n sides of the dice \n",
    "\n",
    "        modifier = int value of modifier for roll\n",
    "\n",
    "        numdice = int n number of dice \n",
    "\n",
    "        This function returns the final total for a roll in D&D\n",
    "    '''\n",
    "    count = 1\n",
    "    dice = 0\n",
    "    for i in range(numdice):\n",
    "        count += 1\n",
    "        roll = random.randint(1,x)\n",
    "        print(f'd{x} #{count - 1} Base : {roll}')\n",
    "        if damage == True:\n",
    "            if roll == 20:\n",
    "                dice += (roll * 2)\n",
    "            else:\n",
    "                dice += roll\n",
    "        else:\n",
    "            dice += roll\n",
    "    print(f'\\nBase Total : {dice}')\n",
    "    print(f'Modifier : +{modifier}')\n",
    "    print('------------------------------')\n",
    "    print(f'Total Roll : {dice + modifier}')"
   ]
  },
  {
   "cell_type": "code",
   "execution_count": 101,
   "metadata": {},
   "outputs": [
    {
     "name": "stdout",
     "output_type": "stream",
     "text": [
      "d20 #1 Base : 16\n",
      "\n",
      "Base Total : 16\n",
      "Modifier : +3\n",
      "------------------------------\n",
      "Total Roll : 19\n"
     ]
    }
   ],
   "source": [
    "dice_type = 20\n",
    "modifier = 3\n",
    "number_of_dice = 1\n",
    "damage_roll = False\n",
    "dice_roll(dice_type, modifier, number_of_dice, damage_roll) "
   ]
  },
  {
   "cell_type": "code",
   "execution_count": null,
   "metadata": {},
   "outputs": [],
   "source": []
  },
  {
   "cell_type": "code",
   "execution_count": null,
   "metadata": {},
   "outputs": [],
   "source": []
  }
 ],
 "metadata": {
  "kernelspec": {
   "display_name": "Python 3",
   "language": "python",
   "name": "python3"
  },
  "language_info": {
   "codemirror_mode": {
    "name": "ipython",
    "version": 3
   },
   "file_extension": ".py",
   "mimetype": "text/x-python",
   "name": "python",
   "nbconvert_exporter": "python",
   "pygments_lexer": "ipython3",
   "version": "3.8.5"
  }
 },
 "nbformat": 4,
 "nbformat_minor": 4
}
