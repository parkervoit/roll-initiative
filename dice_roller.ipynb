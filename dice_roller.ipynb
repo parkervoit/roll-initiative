{
 "cells": [
  {
   "cell_type": "markdown",
   "metadata": {},
   "source": [
    "# Dungeons and Dragons Companion Toolkit"
   ]
  },
  {
   "cell_type": "markdown",
   "metadata": {
    "tags": []
   },
   "source": [
    "This notebook is meant to be a lightweight toolkit for rolling dice for ability checks and damage in the tabletop game Dungeons and Dragons"
   ]
  },
  {
   "cell_type": "markdown",
   "metadata": {},
   "source": [
    "## Imports"
   ]
  },
  {
   "cell_type": "code",
   "execution_count": 1,
   "metadata": {},
   "outputs": [],
   "source": [
    "import random\n",
    "import json"
   ]
  },
  {
   "cell_type": "markdown",
   "metadata": {},
   "source": [
    "## Json loads and function definitions"
   ]
  },
  {
   "cell_type": "code",
   "execution_count": 2,
   "metadata": {
    "tags": []
   },
   "outputs": [],
   "source": [
    "# load the json formatted character sheet. Example is below\n",
    "with open('roll-initiative/char_sheet.json') as file:\n",
    "    char_sheet = json.load(file)"
   ]
  },
  {
   "cell_type": "code",
   "execution_count": 3,
   "metadata": {
    "tags": []
   },
   "outputs": [],
   "source": [
    "# base dice rolling function\n",
    "def dice_roll(x = 20, addl_dice = 0, ability = '', numdice = 1, crit = False):\n",
    "    ''' dice_roll(x, modifier, numdice)\n",
    "        \n",
    "        x = int n sides of the dice (default d20)\n",
    "        addl_dice = int n sides of added die, granted from a spell like Guidance (default 0)\n",
    "        modifier = int value of modifier for roll (default 0)\n",
    "        numdice = int n number of dice (default 1)\n",
    "        crit = whether or not the hit roll was a critical hit (default False)\n",
    "        \n",
    "\n",
    "        This function returns the final total for a roll in D&D\n",
    "        Prints each dice roll, base sum, modifier, and the total roll value\n",
    "        This function handles critical hits by duplicating the damage die, then adding the ability modifier.\n",
    "        \n",
    "        \n",
    "        Returns dice, additional_dice, modifier\n",
    "    '''\n",
    "    count = 1\n",
    "    dice = 0\n",
    "    add_dice = 0\n",
    "    output = ''\n",
    "    modifier = char_sheet['abilities'][ability]['mod']\n",
    "    for i in range(numdice):\n",
    "        count += 1\n",
    "        roll = random.randint(1,x)\n",
    "        output += f'<|>  d{x} #{count - 1} Dice Roll :  {roll}  <|>\\n'\n",
    "        dice += roll\n",
    "    if crit == True:\n",
    "        dice *= 2\n",
    "    if addl_dice != 0:\n",
    "            add_dice += random.randint(1,addl_dice)\n",
    "            output += f'<|>  d{addl_dice} Bonus Roll   :  {add_dice}  <|>\\n'\n",
    "    output += f'''\\n\\n Dice Total          :  {dice + add_dice}\\n Modifier            :  {modifier:{\"+\" if modifier else \"\"}}\\n-----------------------------\\n Total Roll          :  {dice + modifier + add_dice}'''\n",
    "    return dice, add_dice, modifier, output"
   ]
  },
  {
   "cell_type": "code",
   "execution_count": 4,
   "metadata": {
    "tags": []
   },
   "outputs": [],
   "source": [
    "# d20 dice function. It is a commonly rolled dice, so it is easier to call this rather than change dice settings\n",
    "def roll_d20(addl_dice = 0, ability = ''):\n",
    "    ''' addl_dice = int n sides of bonus dice\n",
    "        modifier = int ability modifier\n",
    "\n",
    "        returns base sum of dice, bonus dice, modifier, and an output \n",
    "            string with total. '''\n",
    "    return dice_roll(20, addl_dice, ability, 1, False)\n",
    "    "
   ]
  },
  {
   "cell_type": "markdown",
   "metadata": {},
   "source": [
    "### Example json formatted character sheet"
   ]
  },
  {
   "cell_type": "code",
   "execution_count": 5,
   "metadata": {},
   "outputs": [
    {
     "data": {
      "text/plain": [
       "{'character': {'name': 'Ur-Shanai',\n",
       "  'race': 'High Elf',\n",
       "  'class': 'Cleric',\n",
       "  'subclass': 'Grave Domain',\n",
       "  'level': 5},\n",
       " 'abilities': {'strength': {'num': 13, 'mod': 1},\n",
       "  'dexterity': {'num': 18, 'mod': 4},\n",
       "  'constitution': {'num': 18, 'mod': 4},\n",
       "  'intelligence': {'num': 14, 'mod': 2},\n",
       "  'wisdom': {'num': 17, 'mod': 3},\n",
       "  'charisma': {'num': 16, 'mod': 3},\n",
       "  'nomod': {'num': 12, 'mod': 0}},\n",
       " 'saving_throws': {'strength': 1,\n",
       "  'dexterity': 4,\n",
       "  'constitution': 4,\n",
       "  'intelligence': 2,\n",
       "  'wisdom': 6,\n",
       "  'charisma': 6},\n",
       " 'passive_senses': {'perception': 16,\n",
       "  'investigation': 12,\n",
       "  'insight': 16,\n",
       "  'misc': ['darkvision 60ft']},\n",
       " 'skills': {'acrobatics': 'dexterity',\n",
       "  'animal_handling': 'wisdom',\n",
       "  'arcana': 'intelligence',\n",
       "  'athletics': 'strength',\n",
       "  'deception': 'charisma',\n",
       "  'history': 'intelligence',\n",
       "  'insight': 'wisdom',\n",
       "  'intimidation': 'charisma',\n",
       "  'investigation': 'intelligence',\n",
       "  'medicine': 'wisdom',\n",
       "  'nature': 'intelligence',\n",
       "  'perception': 'wisdom',\n",
       "  'performance': 'charisma',\n",
       "  'persuasion': 'charisma',\n",
       "  'religion': 'intelligence',\n",
       "  'sleightofhand': 'dexterity',\n",
       "  'stealth': 'dexterity',\n",
       "  'survival': 'wisdom',\n",
       "  'nomod': 'nomod'}}"
      ]
     },
     "execution_count": 5,
     "metadata": {},
     "output_type": "execute_result"
    }
   ],
   "source": [
    "char_sheet"
   ]
  },
  {
   "cell_type": "markdown",
   "metadata": {},
   "source": [
    "## Example dice rolls"
   ]
  },
  {
   "cell_type": "markdown",
   "metadata": {
    "tags": []
   },
   "source": [
    "####  Lvl 2 spell slot Guiding Bolt"
   ]
  },
  {
   "cell_type": "code",
   "execution_count": 6,
   "metadata": {
    "tags": []
   },
   "outputs": [
    {
     "name": "stdout",
     "output_type": "stream",
     "text": [
      "<|>  d6 #1 Dice Roll :  2  <|>\n",
      "<|>  d6 #2 Dice Roll :  4  <|>\n",
      "<|>  d6 #3 Dice Roll :  6  <|>\n",
      "<|>  d6 #4 Dice Roll :  5  <|>\n",
      "<|>  d6 #5 Dice Roll :  4  <|>\n",
      "<|>  d4 Bonus Roll   :  3  <|>\n",
      "\n",
      "\n",
      " Dice Total          :  24\n",
      " Modifier            :  0\n",
      "-----------------------------\n",
      " Total Roll          :  24\n"
     ]
    }
   ],
   "source": [
    "dice_type = 6\n",
    "addl_dice = 4\n",
    "modifier = 'nomod'\n",
    "number_of_dice = 5\n",
    "crit = False\n",
    "dice, add_dice, modifier, output = dice_roll(dice_type, \n",
    "                                             addl_dice, \n",
    "                                             modifier, \n",
    "                                             number_of_dice, \n",
    "                                             crit) \n",
    "print(output)"
   ]
  },
  {
   "cell_type": "markdown",
   "metadata": {},
   "source": [
    "#### D20 ability check"
   ]
  },
  {
   "cell_type": "code",
   "execution_count": 11,
   "metadata": {},
   "outputs": [
    {
     "name": "stdout",
     "output_type": "stream",
     "text": [
      "<|>  d20 #1 Dice Roll :  17  <|>\n",
      "\n",
      "\n",
      " Dice Total          :  17\n",
      " Modifier            :  +1\n",
      "-----------------------------\n",
      " Total Roll          :  18\n"
     ]
    }
   ],
   "source": [
    "ability = 'strength'\n",
    "addl_dice = 0\n",
    "hit_roll = True\n",
    "dice, add_dice, modifier, output = roll_d20(addl_dice,\n",
    "                                            ability)\n",
    "print(output)"
   ]
  },
  {
   "cell_type": "code",
   "execution_count": null,
   "metadata": {},
   "outputs": [],
   "source": []
  }
 ],
 "metadata": {
  "kernelspec": {
   "display_name": "Python 3",
   "language": "python",
   "name": "python3"
  },
  "language_info": {
   "codemirror_mode": {
    "name": "ipython",
    "version": 3
   },
   "file_extension": ".py",
   "mimetype": "text/x-python",
   "name": "python",
   "nbconvert_exporter": "python",
   "pygments_lexer": "ipython3",
   "version": "3.8.5"
  }
 },
 "nbformat": 4,
 "nbformat_minor": 4
}
