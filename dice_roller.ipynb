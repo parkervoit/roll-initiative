{
 "cells": [
  {
   "cell_type": "code",
   "execution_count": 1,
   "metadata": {},
   "outputs": [],
   "source": [
    "import random "
   ]
  },
  {
   "cell_type": "code",
   "execution_count": 191,
   "metadata": {},
   "outputs": [],
   "source": [
    "def dice_roll(x = 20, y = 0, modifier = 0, numdice = 1, crit = False):\n",
    "    ''' dice_roll(x, modifier, numdice)\n",
    "        \n",
    "        x = int n sides of the dice (default d20)\n",
    "        y = int n sides of added die, granted from a spell like Guidance (default 0)\n",
    "        modifier = int value of modifier for roll (default 0)\n",
    "        numdice = int n number of dice (default 1)\n",
    "        crit = whether or not the hit roll was a critical hit (default False)\n",
    "        \n",
    "\n",
    "        This function returns the final total for a roll in D&D\n",
    "        Prints each dice roll, base sum, modifier, and the total roll value\n",
    "        This function handles critical hits by duplicating the damage die, then adding the ability modifier.\n",
    "        \n",
    "        \n",
    "        Returns dice, additional_dice, modifier\n",
    "    '''\n",
    "    count = 1\n",
    "    dice = 0\n",
    "    add_dice = 0\n",
    "    output = ''\n",
    "    for i in range(numdice):\n",
    "        count += 1\n",
    "        roll = random.randint(1,x)\n",
    "        output += f'<|>  d{x} #{count - 1} Dice Roll :  {roll}  <|>\\n'\n",
    "        dice += roll\n",
    "    if crit == True:\n",
    "        dice *= 2\n",
    "    if y != 0:\n",
    "            add_dice += random.randint(1,y)\n",
    "            output += f'<|>  d{y} Bonus Roll   :  {add_dice}  <|>\\n'\n",
    "    output += f'''\\n\\n Dice Total          :  {dice + add_dice}\\n Modifier            :  {modifier:{\"+\" if modifier else \"\"}}\\n-----------------------------\\n Total Roll          :  {dice + modifier + add_dice}'''\n",
    "    return dice, add_dice, modifier, output"
   ]
  },
  {
   "cell_type": "code",
   "execution_count": 192,
   "metadata": {},
   "outputs": [],
   "source": [
    "def roll_d20(addl_dice = 0, modifier = 0):\n",
    "    ''' addl_dice = int n sides of bonus dice\n",
    "        modifier = int ability modifier\n",
    "\n",
    "        returns base sum of dice, bonus dice, modifier, and an output \n",
    "            string with total. '''\n",
    "    return dice_roll(20, addl_dice, modifier, 1, False)\n",
    "    "
   ]
  },
  {
   "cell_type": "code",
   "execution_count": 193,
   "metadata": {},
   "outputs": [
    {
     "name": "stdout",
     "output_type": "stream",
     "text": [
      "<|>  d6 #1 Dice Roll :  4  <|>\n",
      "<|>  d6 #2 Dice Roll :  5  <|>\n",
      "<|>  d6 #3 Dice Roll :  2  <|>\n",
      "<|>  d6 #4 Dice Roll :  1  <|>\n",
      "<|>  d6 #5 Dice Roll :  4  <|>\n",
      "<|>  d4 Bonus Roll   :  2  <|>\n",
      "\n",
      "\n",
      " Dice Total          :  34\n",
      " Modifier            :  +3\n",
      "-----------------------------\n",
      " Total Roll          :  37\n"
     ]
    }
   ],
   "source": [
    "dice_type = 6\n",
    "addl_dice = 4\n",
    "modifier = +3\n",
    "number_of_dice = 5\n",
    "hit_roll = False\n",
    "dice, add_dice, modifier, output = dice_roll(dice_type, \n",
    "                                             addl_dice, \n",
    "                                             modifier, \n",
    "                                             number_of_dice, \n",
    "                                             damage_roll) \n",
    "print(output)"
   ]
  },
  {
   "cell_type": "code",
   "execution_count": 194,
   "metadata": {},
   "outputs": [
    {
     "name": "stdout",
     "output_type": "stream",
     "text": [
      "<|>  d20 #1 Dice Roll :  17  <|>\n",
      "\n",
      "\n",
      " Dice Total          :  17\n",
      " Modifier            :  +3\n",
      "-----------------------------\n",
      " Total Roll          :  20\n"
     ]
    }
   ],
   "source": [
    "modifier = +3\n",
    "addl_dice = 0\n",
    "hit_roll = True\n",
    "dice, add_dice, modifier, output = roll_d20(addl_dice,\n",
    "                                            modifier)\n",
    "print(output)"
   ]
  },
  {
   "cell_type": "code",
   "execution_count": null,
   "metadata": {},
   "outputs": [],
   "source": []
  }
 ],
 "metadata": {
  "kernelspec": {
   "display_name": "Python 3",
   "language": "python",
   "name": "python3"
  },
  "language_info": {
   "codemirror_mode": {
    "name": "ipython",
    "version": 3
   },
   "file_extension": ".py",
   "mimetype": "text/x-python",
   "name": "python",
   "nbconvert_exporter": "python",
   "pygments_lexer": "ipython3",
   "version": "3.8.5"
  }
 },
 "nbformat": 4,
 "nbformat_minor": 4
}
