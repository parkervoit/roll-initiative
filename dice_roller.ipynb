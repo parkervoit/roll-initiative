{
 "cells": [
  {
   "cell_type": "code",
   "execution_count": 1,
   "metadata": {},
   "outputs": [],
   "source": [
    "import random "
   ]
  },
  {
   "cell_type": "code",
   "execution_count": 2,
   "metadata": {},
   "outputs": [],
   "source": [
    "def dice_roll(x = 20, y = 0, modifier = 0, numdice = 1, damage = False):\n",
    "    ''' dice_roll(x, modifier, numdice)\n",
    "        \n",
    "        x = int n sides of the dice (default d20)\n",
    "        y = int n sides of added die, granted from a spell,e.g. Guidance (default 0)\n",
    "        modifier = int value of modifier for roll (default 0)\n",
    "        numdice = int n number of dice (default 1)\n",
    "\n",
    "        This function returns the final total for a roll in D&D\n",
    "        Prints each dice roll, base sum, modifier, and the total roll value\n",
    "        \n",
    "        Returns None\n",
    "    '''\n",
    "    count = 1\n",
    "    dice = 0\n",
    "    add_dice = 0\n",
    "    for i in range(numdice):\n",
    "        count += 1\n",
    "        roll = random.randint(1,x)\n",
    "        print(f'd{x} #{count - 1} Base : {roll}')\n",
    "        if y != 0:\n",
    "            add_dice += random.randint(1,y)\n",
    "            print(f'Bonus Dice Roll : {add_dice}')\n",
    "        if damage == True:\n",
    "            if roll == 20:\n",
    "                dice += (roll * 2)\n",
    "            else:\n",
    "                dice += roll\n",
    "        else:\n",
    "            dice += roll\n",
    "    print(f'\\nBase Total : {dice + add_dice}')\n",
    "    print(f'Modifier : +{modifier}')\n",
    "    print('------------------------------')\n",
    "    print(f'Total Roll : {dice + modifier + add_dice}')"
   ]
  },
  {
   "cell_type": "code",
   "execution_count": 3,
   "metadata": {},
   "outputs": [
    {
     "name": "stdout",
     "output_type": "stream",
     "text": [
      "d20 #1 Base : 5\n",
      "Bonus Dice Roll : 1\n",
      "\n",
      "Base Total : 6\n",
      "Modifier : +2\n",
      "------------------------------\n",
      "Total Roll : 8\n"
     ]
    }
   ],
   "source": [
    "# d20\n",
    "dice_type = 20\n",
    "# additonal d4 from something like Guidance\n",
    "addl_dice = 4\n",
    "# +2\n",
    "modifier = 2\n",
    "# 1d20 \n",
    "number_of_dice = 1\n",
    "# Ability check roll\n",
    "damage_roll = False\n",
    "\n",
    "# roll it\n",
    "dice_roll(dice_type, addl_dice, modifier, number_of_dice, damage_roll) "
   ]
  }
 ],
 "metadata": {
  "kernelspec": {
   "display_name": "Python 3",
   "language": "python",
   "name": "python3"
  },
  "language_info": {
   "codemirror_mode": {
    "name": "ipython",
    "version": 3
   },
   "file_extension": ".py",
   "mimetype": "text/x-python",
   "name": "python",
   "nbconvert_exporter": "python",
   "pygments_lexer": "ipython3",
   "version": "3.8.5"
  }
 },
 "nbformat": 4,
 "nbformat_minor": 4
}
