{
 "cells": [
  {
   "cell_type": "code",
   "execution_count": 1,
   "metadata": {},
   "outputs": [],
   "source": [
    "import random "
   ]
  },
  {
   "cell_type": "code",
   "execution_count": 113,
   "metadata": {},
   "outputs": [],
   "source": [
    "def dice_roll(x = 20, y = 0, modifier = 0, numdice = 1, damage = False):\n",
    "    ''' dice_roll(x, modifier, numdice)\n",
    "        \n",
    "        x = int n sides of the dice (default d20)\n",
    "        y = int n sides of added die, granted from a spell like Guidance (default 0)\n",
    "        modifier = int value of modifier for roll (default 0)\n",
    "        numdice = int n number of dice (default 1)\n",
    "\n",
    "        This function returns the final total for a roll in D&D\n",
    "        Prints each dice roll, base sum, modifier, and the total roll value\n",
    "        \n",
    "        Returns dice, additional_dice, modifier\n",
    "    '''\n",
    "    count = 1\n",
    "    dice = 0\n",
    "    add_dice = 0\n",
    "    for i in range(numdice):\n",
    "        count += 1\n",
    "        roll = random.randint(1,x)\n",
    "        print(f'<|>  d{x} #{count - 1} Base      :  {roll}  <|>')\n",
    "        if y != 0:\n",
    "            add_dice += random.randint(1,y)\n",
    "            print(f'<|>  Bonus Dice Roll  :  {add_dice}  <|>')\n",
    "        if damage == True:\n",
    "            if roll == 20:\n",
    "                dice += (roll * 2)\n",
    "            else:\n",
    "                dice += roll\n",
    "        else:\n",
    "            dice += roll\n",
    "    output = f'\\n\\n Base Total       :  {dice + add_dice}\\n Modifier         :  {modifier:{\"+\" if modifier else \"\"}}\\n-----------------------------\\n Total Roll       :  {dice + modifier + add_dice}'\n",
    "    return dice, add_dice, modifier, output"
   ]
  },
  {
   "cell_type": "code",
   "execution_count": 96,
   "metadata": {},
   "outputs": [],
   "source": [
    "def roll_d20(addl_dice = 0, modifier = 0):\n",
    "    return dice_roll(20, addl_dice, modifier, 1, False)\n",
    "    "
   ]
  },
  {
   "cell_type": "code",
   "execution_count": 116,
   "metadata": {},
   "outputs": [
    {
     "name": "stdout",
     "output_type": "stream",
     "text": [
      "<|>  d100 #1 Base      :  71  <|>\n",
      "\n",
      "\n",
      " Base Total       :  71\n",
      " Modifier         :  0\n",
      "-----------------------------\n",
      " Total Roll       :  71\n"
     ]
    }
   ],
   "source": [
    "dice_type = 100\n",
    "addl_dice = 0\n",
    "modifier = +0\n",
    "number_of_dice = 1\n",
    "damage_roll = True\n",
    "dice, add_dice, modifier, output = dice_roll(dice_type, \n",
    "                                             addl_dice, \n",
    "                                             modifier, \n",
    "                                             number_of_dice, \n",
    "                                             damage_roll) \n",
    "print(output)"
   ]
  },
  {
   "cell_type": "code",
   "execution_count": 117,
   "metadata": {},
   "outputs": [
    {
     "name": "stdout",
     "output_type": "stream",
     "text": [
      "<|>  d20 #1 Base      :  15  <|>\n",
      "\n",
      "\n",
      " Base Total       :  15\n",
      " Modifier         :  +3\n",
      "-----------------------------\n",
      " Total Roll       :  18\n"
     ]
    }
   ],
   "source": [
    "modifier = +3\n",
    "addl_dice = 0\n",
    "dice, add_dice, modifier, output = roll_d20(addl_dice,\n",
    "                                            modifier)\n",
    "print(output)"
   ]
  },
  {
   "cell_type": "code",
   "execution_count": null,
   "metadata": {},
   "outputs": [],
   "source": []
  }
 ],
 "metadata": {
  "kernelspec": {
   "display_name": "Python 3",
   "language": "python",
   "name": "python3"
  },
  "language_info": {
   "codemirror_mode": {
    "name": "ipython",
    "version": 3
   },
   "file_extension": ".py",
   "mimetype": "text/x-python",
   "name": "python",
   "nbconvert_exporter": "python",
   "pygments_lexer": "ipython3",
   "version": "3.8.5"
  }
 },
 "nbformat": 4,
 "nbformat_minor": 4
}
